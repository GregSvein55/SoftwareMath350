{
 "cells": [
  {
   "cell_type": "markdown",
   "metadata": {},
   "source": [
    "<center>\n",
    "\n",
    "## ENSE 350 – Math Programming for Software Engineers - Laboratory\n",
    "\n",
    "# Lab 1: Intro to Python, GCD and Pulverizer\n",
    "\n",
    "### University of Regina\n",
    "### Faculty of Engineering and Applied Science - Software Systems Engineering\n",
    "\n",
    "### Lab Instructor: [Adam Tilson](mailto:Adam.Tilson@uregina.ca)\n",
    "</center>"
   ]
  },
  {
   "cell_type": "markdown",
   "metadata": {},
   "source": [
    "# Lab 1\n",
    "\n",
    "## Part 1: Introduction\n",
    "\n",
    "This notebook will introduce you to the basics of using the Jupyter Notebook and the Python 3 programming language. These notebooks will be used to bundle your code and documentation to submit labs for this course.\n",
    "\n",
    "We will work through this notebook together in the lab.\n",
    "\n",
    "[Documentation on Jupyter Notebook](https://jupyter-notebook.readthedocs.io/en/stable/notebook.html?highlight=markdown#markdown-cells)\n",
    "\n",
    "There are two types of cells in the Jupyter Notebook, code cells and markdown cells. This is a markdown cell. It is used to document your code. When this cell is run using shift+enter the markdown language will be rendered in a human-readable fashion.\n",
    "\n",
    "Code cells can run code from a python kernel live in the notebook. The following cell is a code cell. Run it by pressing shift+enter in the cell."
   ]
  },
  {
   "cell_type": "code",
   "execution_count": 6,
   "metadata": {},
   "outputs": [
    {
     "name": "stdout",
     "output_type": "stream",
     "text": [
      "Hello World\n"
     ]
    }
   ],
   "source": [
    "# python code to print hello world\n",
    "print(\"Hello World\")"
   ]
  },
  {
   "cell_type": "markdown",
   "metadata": {},
   "source": [
    "You should see the output of the python code below the cell. "
   ]
  },
  {
   "cell_type": "markdown",
   "metadata": {},
   "source": [
    "## Exercise 1: Markdown cell\n",
    "\n",
    "Practice using the markdown language in the following cell. Convert the follwing cell from python code to markdown language (Cell -> Cell Type -> Markdown), and using the documentation included in the previous link, provide example code for each of the following:\n",
    "\n",
    "- Heading\n",
    "- Subheading\n",
    "- List with a sublist\n",
    "- a block quote\n",
    "- a table\n",
    "- the latex math formula for pythagoras theorum (centered)"
   ]
  },
  {
   "cell_type": "markdown",
   "metadata": {},
   "source": []
  },
  {
   "cell_type": "markdown",
   "metadata": {},
   "source": [
    "## Part 2: Basic Data Types in Python\n",
    "\n",
    "This section teaches the basics of data types in python 3. In python 3 the primitive data types are:\n",
    "\n",
    "- numbers: can represent integer, floating point and complex types\n",
    "- strings: represents an ordered set of characters\n",
    "- list: represents a list of values, typically of the same type. Similar to arrays. \n",
    "- tuple: represents an ordered pair of values, not necessary of the same type. Similar to a struct.\n",
    "- dictionary: represents a set of key-value pairs, similar to an associative array or maps. \n",
    "   \n",
    "Variables are not type-declared, the type is determined during the assignment statement.\n",
    "\n",
    "A good overview of the types in Python 3 can be found at the following tutorial: https://www.tutorialspoint.com/python3/python_variable_types.htm"
   ]
  },
  {
   "cell_type": "markdown",
   "metadata": {},
   "source": [
    "### Number\n",
    "\n",
    "The number type can represent integer, float and complex types. Try to declare some of these in the following cells:"
   ]
  },
  {
   "cell_type": "code",
   "execution_count": 5,
   "metadata": {},
   "outputs": [
    {
     "name": "stdout",
     "output_type": "stream",
     "text": [
      "1.0\n"
     ]
    }
   ],
   "source": [
    "# Set the variable float_third to one third\n",
    "\n",
    "# SOLUTION\n",
    "float_third = 1/3\n",
    "float_third = float_third * 3\n",
    "\n",
    "print (float_third)"
   ]
  },
  {
   "cell_type": "code",
   "execution_count": 7,
   "metadata": {},
   "outputs": [
    {
     "name": "stdout",
     "output_type": "stream",
     "text": [
      "3 2\n"
     ]
    }
   ],
   "source": [
    "# Set the variables quotient and remainder to the quotient and remainder of 17 divided by 5, respectively\n",
    "\n",
    "#quotient = 17//5 # int divition is //, only gives us the whole number part\n",
    "#remainder = 17 % 5\n",
    "\n",
    "def int_divide (a, b):#function\n",
    "    return a//b, a%b\n",
    "\n",
    "quotient, remainder = int_divide(17, 5)\n",
    "\n",
    "print (quotient, remainder)"
   ]
  },
  {
   "cell_type": "code",
   "execution_count": 8,
   "metadata": {},
   "outputs": [
    {
     "name": "stdout",
     "output_type": "stream",
     "text": [
      "100\n"
     ]
    }
   ],
   "source": [
    "# Set the variable integer_hundred to one hundred\n",
    "integer_hundred = 100\n",
    "\n",
    "print (integer_hundred)"
   ]
  },
  {
   "cell_type": "markdown",
   "metadata": {},
   "source": [
    "### String\n",
    "\n",
    "The string type contains an ordered list of characters. Three useful string operators are concatenation (+), repition (\\*) and slice ( [] or [ : ]). Using these functions try to solve the following problems:"
   ]
  },
  {
   "cell_type": "code",
   "execution_count": 11,
   "metadata": {},
   "outputs": [
    {
     "name": "stdout",
     "output_type": "stream",
     "text": [
      "hello world\n"
     ]
    }
   ],
   "source": [
    "# Set the variable strings hello and world to say \"hello \" and \"world\", \n",
    "# respectively, and set string helloworld to the concatenation of the two\n",
    "hello = \"hello\"\n",
    "world = \"world\"\n",
    "helloworld = hello + \" \" + world\n",
    "\n",
    "print (helloworld)"
   ]
  },
  {
   "cell_type": "code",
   "execution_count": 10,
   "metadata": {},
   "outputs": [
    {
     "name": "stdout",
     "output_type": "stream",
     "text": [
      "hellohellohellohellohello\n"
     ]
    }
   ],
   "source": [
    "# Set the variable hello_5 to say \"hello\" repeated five times with spaces.\n",
    "hello_5 = \"hello\" * 5\n",
    "\n",
    "print (hello_5)"
   ]
  },
  {
   "cell_type": "code",
   "execution_count": 12,
   "metadata": {},
   "outputs": [
    {
     "name": "stdout",
     "output_type": "stream",
     "text": [
      "lo wo\n"
     ]
    }
   ],
   "source": [
    "# Set hello_slice to say \"lo wo\" by using a slice operation on string_hp\n",
    "\n",
    "hello_slice = helloworld[3:8]\n",
    "\n",
    "print (hello_slice)"
   ]
  },
  {
   "cell_type": "markdown",
   "metadata": {},
   "source": [
    "### Lists\n",
    "\n",
    "Lists are the data structure in python that corresponds with arrays in c-like languages. \n",
    "\n",
    "   - contain a number of indexable members\n",
    "   - typically used for homogenous data types\n",
    "   - declared using the [] symbol\n",
    "   - have operators to be used as stacks, queues\n",
    "   \n",
    "More information on lists can be found at: https://www.tutorialspoint.com/python3/python_lists.htm\n",
    "   \n",
    "Try to initialize the following lists:"
   ]
  },
  {
   "cell_type": "code",
   "execution_count": 13,
   "metadata": {},
   "outputs": [
    {
     "name": "stdout",
     "output_type": "stream",
     "text": [
      "[1, 3, 7]\n"
     ]
    }
   ],
   "source": [
    "# Create a list named new_list with number 1, 3, and 7\n",
    "new_list = [1,3,7]\n",
    "print (new_list)"
   ]
  },
  {
   "cell_type": "code",
   "execution_count": 14,
   "metadata": {},
   "outputs": [],
   "source": [
    "# create an empty list named second_list, and then push on 3, 4 and 5 to the end, and then 2, 1 to the start\n",
    "second_list =[]\n",
    "\n"
   ]
  },
  {
   "cell_type": "code",
   "execution_count": 15,
   "metadata": {},
   "outputs": [
    {
     "data": {
      "text/plain": [
       "['__add__',\n",
       " '__class__',\n",
       " '__class_getitem__',\n",
       " '__contains__',\n",
       " '__delattr__',\n",
       " '__delitem__',\n",
       " '__dir__',\n",
       " '__doc__',\n",
       " '__eq__',\n",
       " '__format__',\n",
       " '__ge__',\n",
       " '__getattribute__',\n",
       " '__getitem__',\n",
       " '__gt__',\n",
       " '__hash__',\n",
       " '__iadd__',\n",
       " '__imul__',\n",
       " '__init__',\n",
       " '__init_subclass__',\n",
       " '__iter__',\n",
       " '__le__',\n",
       " '__len__',\n",
       " '__lt__',\n",
       " '__mul__',\n",
       " '__ne__',\n",
       " '__new__',\n",
       " '__reduce__',\n",
       " '__reduce_ex__',\n",
       " '__repr__',\n",
       " '__reversed__',\n",
       " '__rmul__',\n",
       " '__setattr__',\n",
       " '__setitem__',\n",
       " '__sizeof__',\n",
       " '__str__',\n",
       " '__subclasshook__',\n",
       " 'append',\n",
       " 'clear',\n",
       " 'copy',\n",
       " 'count',\n",
       " 'extend',\n",
       " 'index',\n",
       " 'insert',\n",
       " 'pop',\n",
       " 'remove',\n",
       " 'reverse',\n",
       " 'sort']"
      ]
     },
     "execution_count": 15,
     "metadata": {},
     "output_type": "execute_result"
    }
   ],
   "source": [
    "# try calling dir on list \n",
    "dir (second_list)"
   ]
  },
  {
   "cell_type": "code",
   "execution_count": 16,
   "metadata": {},
   "outputs": [
    {
     "name": "stdout",
     "output_type": "stream",
     "text": [
      "Help on built-in function insert:\n",
      "\n",
      "insert(index, object, /) method of builtins.list instance\n",
      "    Insert object before index.\n",
      "\n"
     ]
    }
   ],
   "source": [
    "# get some help on insert\n",
    "help(second_list.insert)"
   ]
  },
  {
   "cell_type": "code",
   "execution_count": 17,
   "metadata": {},
   "outputs": [
    {
     "name": "stdout",
     "output_type": "stream",
     "text": [
      "Help on built-in function append:\n",
      "\n",
      "append(object, /) method of builtins.list instance\n",
      "    Append object to the end of the list.\n",
      "\n"
     ]
    }
   ],
   "source": [
    "# get some help on append\n",
    "help (second_list.append)"
   ]
  },
  {
   "cell_type": "code",
   "execution_count": 18,
   "metadata": {},
   "outputs": [],
   "source": [
    "second_list.append(3)\n",
    "second_list.append(4)\n",
    "second_list.append(5)"
   ]
  },
  {
   "cell_type": "code",
   "execution_count": 20,
   "metadata": {},
   "outputs": [
    {
     "name": "stdout",
     "output_type": "stream",
     "text": [
      "[1, 2, 1, 2, 3, 4, 4]\n"
     ]
    }
   ],
   "source": [
    "second_list.insert(0,2)\n",
    "second_list.insert(0,1)\n",
    "print(second_list)"
   ]
  },
  {
   "cell_type": "code",
   "execution_count": 21,
   "metadata": {},
   "outputs": [
    {
     "name": "stdout",
     "output_type": "stream",
     "text": [
      "1\n",
      "[1, 2, 9, 2, 3, 4, 4]\n"
     ]
    }
   ],
   "source": [
    "print(second_list[2])\n",
    "second_list[2] = 9\n",
    "print (second_list)"
   ]
  },
  {
   "cell_type": "markdown",
   "metadata": {},
   "source": [
    "### Tuples\n",
    "\n",
    "Tuples are a data type corresponding to an ordered pair (or more) of variable values. Some properties of this data type: \n",
    "   \n",
    "   - The tuple  can be of any length. \n",
    "   - The values in tuples may be of any type. (similar to c structs)\n",
    "   - Tuples can be used to return multiple values from a function\n",
    "   - Unlike lists, tuples are immutable\n",
    "   \n",
    "More information on tuples can be found at: https://www.tutorialspoint.com/python3/python_tuples.htm\n",
    "\n",
    "Try to initialize the following tuples:"
   ]
  },
  {
   "cell_type": "code",
   "execution_count": 22,
   "metadata": {},
   "outputs": [
    {
     "name": "stdout",
     "output_type": "stream",
     "text": [
      "(1, 'hi', [1, 2, 3])\n"
     ]
    }
   ],
   "source": [
    "# Set tuple_t to be the numbers 1, the string \"hi\" and a list with values 1, 2, 3.\n",
    "tuple_t = (1, \"hi\", [1,2,3])\n",
    "\n",
    "print (tuple_t)"
   ]
  },
  {
   "cell_type": "code",
   "execution_count": 23,
   "metadata": {},
   "outputs": [
    {
     "ename": "TypeError",
     "evalue": "'tuple' object does not support item assignment",
     "output_type": "error",
     "traceback": [
      "\u001b[1;31m---------------------------------------------------------------------------\u001b[0m",
      "\u001b[1;31mTypeError\u001b[0m                                 Traceback (most recent call last)",
      "\u001b[1;32mc:\\Users\\User1\\Desktop\\ENSE 350 Lab\\Lab1\\eg-start.ipynb Cell 27'\u001b[0m in \u001b[0;36m<module>\u001b[1;34m\u001b[0m\n\u001b[1;32m----> <a href='vscode-notebook-cell:/c%3A/Users/User1/Desktop/ENSE%20350%20Lab/Lab1/eg-start.ipynb#ch0000039?line=0'>1</a>\u001b[0m tuple_t[\u001b[39m1\u001b[39m] \u001b[39m=\u001b[39m \u001b[39m0\u001b[39m\n",
      "\u001b[1;31mTypeError\u001b[0m: 'tuple' object does not support item assignment"
     ]
    }
   ],
   "source": [
    "tuple_t[1] = 0"
   ]
  },
  {
   "cell_type": "code",
   "execution_count": 24,
   "metadata": {},
   "outputs": [
    {
     "name": "stdout",
     "output_type": "stream",
     "text": [
      "hi\n"
     ]
    }
   ],
   "source": [
    "print(tuple_t[1])"
   ]
  },
  {
   "cell_type": "code",
   "execution_count": 25,
   "metadata": {},
   "outputs": [
    {
     "name": "stdout",
     "output_type": "stream",
     "text": [
      "1 hi [1, 2, 3]\n"
     ]
    }
   ],
   "source": [
    "x,y,z = tuple_t\n",
    "print(x,y,z)"
   ]
  },
  {
   "cell_type": "markdown",
   "metadata": {},
   "source": [
    "### Dictionary\n",
    "\n",
    "Dictionaries are a data type which maps a key to a value. \n",
    "\n",
    "More information on the Dictionary type can be found at: https://www.tutorialspoint.com/python3/python_dictionary.htm\n",
    "\n",
    "Try to intialize the following dictionary:"
   ]
  },
  {
   "cell_type": "code",
   "execution_count": 26,
   "metadata": {},
   "outputs": [
    {
     "name": "stdout",
     "output_type": "stream",
     "text": [
      "{'a': 'aqua', 'b': 'blue', 'c': 'cyan'}\n",
      "cyan\n"
     ]
    }
   ],
   "source": [
    "# Set dict_d to contain the keys \"a\",\"b\",\"c\" to contain the \n",
    "#     values \"aqua\", \"blue\", \"cyan\"\n",
    "\n",
    "dict_d = {\"a\":\"aqua\", \"b\":\"blue\", \"c\":\"cyan\"}\n",
    "\n",
    "print (dict_d)\n",
    "print (dict_d[\"c\"])"
   ]
  },
  {
   "cell_type": "markdown",
   "metadata": {},
   "source": [
    "## Part 3: Branching and Looping in Python\n",
    "\n",
    "This section teaches the basics of branching and looping in python. In particular, in this section, you will:\n",
    "   \n",
    "   - create a multi-way branch\n",
    "   - loop in a for-loop fashion \n",
    "   - loop in a for-each loop fashion\n",
    "\n",
    "You can review the syntax of these functions at:\n",
    "\n",
    "https://www.tutorialspoint.com/python3/python_if_else.htm\n",
    "\n",
    "https://www.tutorialspoint.com/python3/python_loops.htm\n",
    "\n",
    "\n",
    "### Branching\n",
    "\n",
    "An example of a branching decision in python is:\n",
    "\n",
    "    if x == 3:\n",
    "        print (\"x is 3\")\n",
    "    elif x == 4:\n",
    "        print (\"x is 4\")\n",
    "    else:\n",
    "        print (\"x is not 3 or 4\")\n",
    "        \n",
    "Key syntax differences from c-like languages are:\n",
    "   \n",
    "   - conditions may optionally be encapsulated in parenthesis\n",
    "   - colons (:) appear at the end of conditions\n",
    "   - the keyword \"elif\" is used in place of \"else if\"\n",
    "   - indentation is required"
   ]
  },
  {
   "cell_type": "code",
   "execution_count": 30,
   "metadata": {},
   "outputs": [
    {
     "name": "stdout",
     "output_type": "stream",
     "text": [
      "8\n"
     ]
    }
   ],
   "source": [
    "# Exercise:\n",
    "# Write a block of code which checks if variable x is the square of any of the numbers 1...9. \n",
    "# If so, print out which number it is a square of.\n",
    "# If not, print \"the number is not a square of 1...9\"\n",
    "# Try to think of a pythonic way of writing this code, eg. using some of the data structures described\n",
    "\n",
    "#SOLUTION\n",
    "squares = {1:1, 4:2, 9:3, 16:4, 25:5, 36:6, 49:7, 64:8, 81:9} #dictionary\n",
    "#squares = [1, 4, 9, 16, 25, 36, 49, 64, 81]#list\n",
    "x = 64\n",
    "\n",
    "if x in squares:\n",
    "    print(squares[x])\n",
    "else:\n",
    "    print(\"not a square\")\n"
   ]
  },
  {
   "cell_type": "markdown",
   "metadata": {},
   "source": [
    "### Looping\n",
    "\n",
    "There are two type of looping mechanisms in python, while loops and for loops.\n",
    "\n",
    "   - while loops act as they do in c\n",
    "   - for loops are based on for-each loops\n",
    "       - if you wish to do a do an iterative for loop, you must loop over a range"
   ]
  },
  {
   "cell_type": "code",
   "execution_count": 1,
   "metadata": {},
   "outputs": [
    {
     "name": "stdout",
     "output_type": "stream",
     "text": [
      "***\n",
      "***\n",
      "***\n",
      "***\n",
      "***\n",
      "***\n"
     ]
    }
   ],
   "source": [
    "# Exercise\n",
    "# Using the while loop structure, write a loop structure to print out the following figure:\n",
    "# ***\n",
    "#  ***\n",
    "#   ***\n",
    "#    ***\n",
    "#     ***\n",
    "#      ***\n",
    "\n",
    "#SOLUTION\n",
    "i = 0\n",
    "\n",
    "while i < 6:\n",
    "    print (\"***\")\n",
    "    i += 1\n",
    "    #use nested loops I just fell behind cause of shitty laptop\n",
    "    "
   ]
  },
  {
   "cell_type": "code",
   "execution_count": null,
   "metadata": {},
   "outputs": [],
   "source": [
    "# Exercise\n",
    "# Perform the same exercise using the for loop structure:\n"
   ]
  },
  {
   "cell_type": "markdown",
   "metadata": {},
   "source": [
    "## Part 4: Functions\n",
    "\n",
    "As with most programming languages, python gives the ability to create functions which can then be reused. Functions may optionally:\n",
    "\n",
    "   - take one or more arguments of any type\n",
    "   - return one or more values of any type\n",
    "\n",
    "In python all variables are passed by reference. \n",
    "\n",
    "The basic syntax is as follows:\n",
    "\n",
    "        def <function_name> ( <parameters> ):\n",
    "           <function_operations>\n",
    "           return <value(s)>\n",
    "\n",
    "Because python does not check for the types of the variables going in or out of the function, more care must be taken by the developer to ensure proper usage. A tradeoff to this is that all functions can be considered template functions which work on many types as long as the operations performed are properly defined.\n",
    "\n",
    "A good overview of functions can be found here: https://www.tutorialspoint.com/python3/python_functions.htm"
   ]
  },
  {
   "cell_type": "code",
   "execution_count": 2,
   "metadata": {},
   "outputs": [
    {
     "name": "stdout",
     "output_type": "stream",
     "text": [
      "8\n",
      "hello world\n",
      "[1, 2, 3, 4, 5, 6]\n"
     ]
    }
   ],
   "source": [
    "# Write a function called sum_of_two_values which adds them together and returns the output.\n",
    "# Try running this function on two numbers, two strings and two equal length lists.\n",
    "\n",
    "#Solution\n",
    "def sum_of_two_values (val_a, val_b):\n",
    "    return val_a + val_b\n",
    "\n",
    "print (sum_of_two_values(3, 5))\n",
    "print (sum_of_two_values(\"hello\", \" world\"))\n",
    "print (sum_of_two_values([1,2,3], [4,5,6]))"
   ]
  },
  {
   "cell_type": "markdown",
   "metadata": {},
   "source": [
    "We can optionally test our function using doctests, which embed unit tests in the function comments. These will run the commands and ensure that the printed value matches what is expected. In jupyter we can enforce these tests are run with:\n",
    "```py\n",
    "import doctest\n",
    "doctest.testmod()\n",
    "```"
   ]
  },
  {
   "cell_type": "code",
   "execution_count": 4,
   "metadata": {},
   "outputs": [
    {
     "data": {
      "text/plain": [
       "TestResults(failed=0, attempted=1)"
      ]
     },
     "execution_count": 4,
     "metadata": {},
     "output_type": "execute_result"
    }
   ],
   "source": [
    "# Write a function called factorial which takes a single integer and computes the factorial of that number recursively\n",
    "\n",
    "#solution\n",
    "def factorial (val):\n",
    "    # The doctest will run factorial on 6 and ensure the result is 720, else notify you of the failure! \n",
    "    \"\"\"Return the factorial of val, a positive integer >= 1.\n",
    "    >>> factorial(6)\n",
    "    720\n",
    "    \"\"\"\n",
    "    if val == 1:\n",
    "     return 1\n",
    "    else :\n",
    "        return val * factorial(val - 1)\n",
    "\n",
    "import doctest\n",
    "doctest.testmod()"
   ]
  },
  {
   "cell_type": "code",
   "execution_count": null,
   "metadata": {},
   "outputs": [],
   "source": [
    "# Write a function called sum_and_product which which takes two numbers, and returns both the sum and the product\n",
    "\n",
    "#Solution\n",
    "def sum_and_product (val_a, val_b):\n",
    "    \"\"\"Return the sum and product of two numbers\n",
    "    >>> sum_and_product(3,5)\n",
    "    (8, 15)\n",
    "    \"\"\"\n",
    "    pass\n",
    "\n",
    "print (sum_and_product(3, 5))"
   ]
  },
  {
   "cell_type": "code",
   "execution_count": null,
   "metadata": {},
   "outputs": [],
   "source": []
  }
 ],
 "metadata": {
  "kernelspec": {
   "display_name": "Python 3",
   "language": "python",
   "name": "python3"
  },
  "language_info": {
   "codemirror_mode": {
    "name": "ipython",
    "version": 3
   },
   "file_extension": ".py",
   "mimetype": "text/x-python",
   "name": "python",
   "nbconvert_exporter": "python",
   "pygments_lexer": "ipython3",
   "version": "3.9.0"
  }
 },
 "nbformat": 4,
 "nbformat_minor": 2
}
