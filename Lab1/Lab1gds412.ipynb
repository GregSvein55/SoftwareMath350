{
 "cells": [
  {
   "cell_type": "markdown",
   "id": "relevant-anchor",
   "metadata": {},
   "source": [
    "<center>\n",
    "    \n",
    "## ENSE 350 – Math Programming for Software Engineers - Laboratory\n",
    "\n",
    "# Lab 1: Intro to Python, GCD and Pulverizer\n",
    "\n",
    "### University of Regina\n",
    "### Faculty of Engineering and Applied Science - Software Systems Engineering\n",
    "    \n",
    "</center>"
   ]
  },
  {
   "cell_type": "markdown",
   "id": "driven-relationship",
   "metadata": {},
   "source": [
    "### Your Name: Gregory Sveinbjornson\n",
    "### SID: 200427591"
   ]
  },
  {
   "cell_type": "markdown",
   "id": "dominican-harvey",
   "metadata": {},
   "source": [
    "Part 1: Implement gcd in the following cell. "
   ]
  },
  {
   "cell_type": "code",
   "execution_count": 1,
   "id": "similar-honor",
   "metadata": {},
   "outputs": [],
   "source": [
    "def gcd(a, b):\n",
    "    \"\"\"Return the gcd of a and b, an exact integer >= 0.\n",
    "    >>> gcd(270, 192)\n",
    "    6\n",
    "    \"\"\"\n",
    "\n",
    "    # Your code here\n",
    "    i = 1\n",
    "    divisor = 1\n",
    "    while(i <= a and i <= b ):\n",
    "\n",
    "        if(a % i == 0 and b % i == 0):\n",
    "            divisor = i\n",
    "        \n",
    "        i += 1\n",
    "\n",
    "    #print(divisor)\n",
    "    \n",
    "    return divisor\n",
    "\n",
    "import doctest\n",
    "doctest.run_docstring_examples(gcd, globals())"
   ]
  },
  {
   "cell_type": "markdown",
   "id": "latter-catalyst",
   "metadata": {},
   "source": [
    "Part 2:\n",
    "\n",
    "Solve the following problem:\n",
    "\n",
    "The following fraction:\n",
    "\n",
    "$$\\frac{11178}{59616}$$\n",
    "\n",
    "Is not reduced. \n",
    "\n",
    "Write code in the following cell to compute the reduced form of this fraction.\""
   ]
  },
  {
   "cell_type": "code",
   "execution_count": 2,
   "id": "coral-orbit",
   "metadata": {},
   "outputs": [
    {
     "name": "stdout",
     "output_type": "stream",
     "text": [
      "3.0  /  16.0\n"
     ]
    }
   ],
   "source": [
    "numerator = 11178\n",
    "denominator = 59616\n",
    "\n",
    "divisor = gcd(numerator, denominator)\n",
    "\n",
    "newN = numerator / divisor\n",
    "newD = denominator / divisor\n",
    "\n",
    "print(newN , \" / \" , newD)\n"
   ]
  },
  {
   "cell_type": "markdown",
   "id": "possible-amount",
   "metadata": {},
   "source": [
    "Part 3: Implement the pulverizer in the following cell:"
   ]
  },
  {
   "cell_type": "code",
   "execution_count": 3,
   "id": "fluid-baptist",
   "metadata": {},
   "outputs": [],
   "source": [
    "def pulverizer(a, b):\n",
    "    \"\"\"Return the gcd of a and b, an exact integer >= 0, \n",
    "    and s and t, the smallest coefficients for a and b\n",
    "    which satisfy the equation:\n",
    "        gcd(a,b) = sa + tb\n",
    "    >>> pulverizer(899,  493)\n",
    "    (29, -6, 11)\n",
    "    \"\"\"\n",
    "    # The extended euclidean algortihm is built on the theorem\n",
    "    # gcd(a,b) = sa + tb, and finds those values efficiently\n",
    "    # the gcd is the smallest of all multiples of s and t\n",
    "    \n",
    "    # Your code here\n",
    "\n",
    "    s2, t2, s1, t1 = 1, 0, 0, 1\n",
    "\n",
    "    while b > 0:\n",
    "\n",
    "      q= a // b\n",
    "\n",
    "      r, s, t = (a - b * q),(s2 - q * s1),( t2 - q * t1)\n",
    "\n",
    "      a,b,s2,t2,s1,t1=b,r,s1,t1,s,t\n",
    "      \n",
    "    gcd,s,t=a,s2,t2\n",
    "\n",
    "    return (gcd,s,t)\n",
    "    \n",
    "\n",
    "    \n",
    "    \n",
    "import doctest\n",
    "doctest.run_docstring_examples(pulverizer, globals())"
   ]
  },
  {
   "cell_type": "markdown",
   "id": "fifth-actor",
   "metadata": {},
   "source": [
    "Part 4: Answer the following question:\n",
    "    \n",
    "In ancient greece, two merchants wish to trade with eachother. One carries eggs, which have a monetary value of 27 cents, and the other carries pomegranates, which have a monetary value of 43 cents. The merchants will trade using any whole multiples of their food, for example 3 eggs for 2 pomegranates. However, this will not result in a particularly fair trade, as there will be residual value left over from this trade:\n",
    "\n",
    "$$3 \\text{ eggs} * 27 \\text{ cents} - 2 \\text{ pomegranates} * 43 \\text{ cents} = 81 - 86 = -5 \\text{ cents}$$\n",
    "\n",
    "5 cents remains as a residual between the two trades, so one merchant is getting more value than the other from this trade.\n",
    "\n",
    "Assume each merchant has a maximum of 20 items. What is the minimum amount of each food that each merchant should trade so that the residual value is as small as possible? What is the residual value?"
   ]
  },
  {
   "cell_type": "code",
   "execution_count": 4,
   "id": "regular-journey",
   "metadata": {},
   "outputs": [
    {
     "name": "stdout",
     "output_type": "stream",
     "text": [
      "Differrnce is 1 cent. We need to trade 8 eggs and 5 pomegranates.\n"
     ]
    }
   ],
   "source": [
    "eggs = 27\n",
    "poms = 43\n",
    "eggCost = []\n",
    "pomCost = []\n",
    "bestDiff = 100000\n",
    "\n",
    "i = 1\n",
    "\n",
    "for i in range (1,21):\n",
    "\n",
    "    eggCost.append(eggs * i)\n",
    "    pomCost.append(poms * i)\n",
    "\n",
    "for j in range (len(eggCost)):\n",
    "    for k in range (len(pomCost)):\n",
    "        difference = pomCost[k] - eggCost[j]\n",
    "        difference = abs(difference)\n",
    "\n",
    "        if (difference < bestDiff):\n",
    "            bestDiff = difference\n",
    "            numEggs = j + 1\n",
    "            numPoms = k + 1\n",
    "\n",
    "\n",
    "print(\"Differrnce is\",bestDiff, \"cent. We need to trade\", numEggs, \"eggs and\", numPoms, \"pomegranates.\")\n",
    "\n",
    "\n",
    "\n",
    "\n",
    "\n",
    "\n"
   ]
  },
  {
   "cell_type": "markdown",
   "id": "optional-appreciation",
   "metadata": {},
   "source": []
  }
 ],
 "metadata": {
  "kernelspec": {
   "display_name": "Python 3",
   "language": "python",
   "name": "python3"
  },
  "language_info": {
   "codemirror_mode": {
    "name": "ipython",
    "version": 3
   },
   "file_extension": ".py",
   "mimetype": "text/x-python",
   "name": "python",
   "nbconvert_exporter": "python",
   "pygments_lexer": "ipython3",
   "version": "3.9.0"
  }
 },
 "nbformat": 4,
 "nbformat_minor": 5
}
