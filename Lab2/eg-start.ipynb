{
 "cells": [
  {
   "cell_type": "markdown",
   "id": "whole-martial",
   "metadata": {},
   "source": [
    "<center>\n",
    "    \n",
    "## ENSE 350 – Math Programming for Software Engineers - Laboratory\n",
    "\n",
    "# Lab 2: Examples: \n",
    "    \n",
    "### Object Oriented Programming. Tuples. Lists. Doctest for Classes. \n",
    "\n",
    "### University of Regina\n",
    "### Faculty of Engineering and Applied Science - Software Systems Engineering\n",
    "    \n",
    "</center>"
   ]
  },
  {
   "cell_type": "markdown",
   "id": "freelance-adapter",
   "metadata": {},
   "source": [
    "In this example we will implement a simple \"Right Triangle\" class to demonstrate how object oriented programming works in python."
   ]
  },
  {
   "cell_type": "code",
   "execution_count": 27,
   "id": "structured-notice",
   "metadata": {},
   "outputs": [
    {
     "data": {
      "text/plain": [
       "TestResults(failed=0, attempted=6)"
      ]
     },
     "execution_count": 27,
     "metadata": {},
     "output_type": "execute_result"
    }
   ],
   "source": [
    "class RightTriangle:\n",
    "    \"\"\"This class represents a right triangle\n",
    "    Add doctests for...\n",
    "\n",
    "    creating right triangle\n",
    "    \n",
    "    printing the right triangle\n",
    "    \n",
    "    get_distance between (0,1) and (0,0)\n",
    "    \n",
    "    creating a failed triangle with coordinates (0,0), (1,2) and (2,1) should raise a value error\n",
    "    \n",
    "    getting the hypotenuse for the for the correct triangle\n",
    "    \n",
    "    getting the perimeter\n",
    "    \"\"\"\n",
    "    \n",
    "    # __init__ is the constructor function\n",
    "    def __init__ (self, coord_a, coord_b, coord_c):\n",
    "        # initialize class variables here\n",
    "\n",
    "        # contain the lengths of the sides of the triangle in ascending order\n",
    "        \n",
    "        # check if the coordinates consitute a right triangle, otherwise raise an error\n",
    "        pass\n",
    "\n",
    "    # Casts our class to a string, e.g. when called by the print function\n",
    "    def __str__(self):\n",
    "        pass\n",
    "\n",
    "    # Member functions need to be called from an instance of the class\n",
    "    # Utility function - Get the distance between two arbitrary coordinates\n",
    "    def get_distance (self, coord_a, coord_b):\n",
    "        pass\n",
    "    \n",
    "    def get_hypotenuse (self):\n",
    "        pass\n",
    "    \n",
    "    def get_perimeter (self):\n",
    "        pass\n",
    "        \n",
    "import doctest\n",
    "doctest.testmod()"
   ]
  }
 ],
 "metadata": {
  "kernelspec": {
   "display_name": "Python 3",
   "language": "python",
   "name": "python3"
  },
  "language_info": {
   "codemirror_mode": {
    "name": "ipython",
    "version": 3
   },
   "file_extension": ".py",
   "mimetype": "text/x-python",
   "name": "python",
   "nbconvert_exporter": "python",
   "pygments_lexer": "ipython3",
   "version": "3.9.7"
  }
 },
 "nbformat": 4,
 "nbformat_minor": 5
}
