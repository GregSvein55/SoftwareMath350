{
 "cells": [
  {
   "cell_type": "markdown",
   "id": "heated-sword",
   "metadata": {},
   "source": [
    "<center>\n",
    "    \n",
    "## ENSE 350 – Math Programming for Software Engineers - Laboratory\n",
    "\n",
    "# Lab 3: L U Decomposition\n",
    "### Examples (Starter)\n",
    "\n",
    "### University of Regina\n",
    "### Faculty of Engineering and Applied Science - Software Systems Engineering\n",
    "    \n",
    "</center>"
   ]
  },
  {
   "cell_type": "markdown",
   "id": "naked-tradition",
   "metadata": {},
   "source": [
    "## Part 0: Warm Up\n",
    "\n",
    "In this section we will look in depth at lists in Python.\n",
    "\n",
    "### 1D Lists"
   ]
  },
  {
   "cell_type": "code",
   "execution_count": null,
   "id": "different-jason",
   "metadata": {},
   "outputs": [],
   "source": [
    "# Create a 1D list with 1,2,3,4,5\n"
   ]
  },
  {
   "cell_type": "code",
   "execution_count": null,
   "id": "quality-guide",
   "metadata": {},
   "outputs": [],
   "source": [
    "# Loop through the list by value\n"
   ]
  },
  {
   "cell_type": "code",
   "execution_count": null,
   "id": "fundamental-envelope",
   "metadata": {},
   "outputs": [],
   "source": [
    "# Note we can't update elements in this way... \n",
    "# try adding one to each element and printing the whole list\n"
   ]
  },
  {
   "cell_type": "code",
   "execution_count": null,
   "id": "efficient-devices",
   "metadata": {},
   "outputs": [],
   "source": [
    "# Loop through the lits by index\n"
   ]
  },
  {
   "cell_type": "code",
   "execution_count": null,
   "id": "relative-bidding",
   "metadata": {},
   "outputs": [],
   "source": [
    "# Loop through a list by index, and update the values as you go\n",
    "# by adding one to each element. print it out, did changes persist?\n"
   ]
  },
  {
   "cell_type": "code",
   "execution_count": null,
   "id": "medium-duration",
   "metadata": {},
   "outputs": [],
   "source": [
    "# Loop through the second half of a sublist (slice) by index\n",
    "\n",
    "\n",
    "        \n",
    "# Note that the indices no longer correspond to their locations \n",
    "# in the original list!"
   ]
  },
  {
   "cell_type": "code",
   "execution_count": null,
   "id": "extreme-hanging",
   "metadata": {},
   "outputs": [],
   "source": [
    "# Loop through the second half of a list using a custom range\n"
   ]
  },
  {
   "cell_type": "code",
   "execution_count": null,
   "id": "dried-austria",
   "metadata": {},
   "outputs": [],
   "source": [
    "# Make a deep copy of the list\n"
   ]
  },
  {
   "cell_type": "markdown",
   "id": "alpha-warehouse",
   "metadata": {},
   "source": [
    "### 2D Lists\n",
    "\n",
    "In Python, a 2D list is represented as a list of lists. Theoretically each sublist could be of a different length, but we will not look into that in this case."
   ]
  },
  {
   "cell_type": "code",
   "execution_count": null,
   "id": "visible-cocktail",
   "metadata": {},
   "outputs": [],
   "source": [
    "# Create a 2D Array\n",
    "arr = [[ 0,  1,  2,  3],\\\n",
    "       [10, 11, 12, 13],\\\n",
    "       [20, 21, 22, 23],\\\n",
    "       [30, 31, 32, 33]]"
   ]
  },
  {
   "cell_type": "code",
   "execution_count": null,
   "id": "ready-aspect",
   "metadata": {},
   "outputs": [],
   "source": [
    "# Print it out"
   ]
  },
  {
   "cell_type": "code",
   "execution_count": null,
   "id": "republican-causing",
   "metadata": {},
   "outputs": [],
   "source": [
    "# Let's define a print helper to show us where we are in the array, \n",
    "# as well as the value there\n",
    "def print_val (arr, row, col):\n",
    "    print (\"row: \"+str(row) + \\\n",
    "           \"  col: \"+ str(col) + \\\n",
    "           \"  val: \" + str(arr[row][col]))"
   ]
  },
  {
   "cell_type": "code",
   "execution_count": null,
   "id": "frozen-running",
   "metadata": {},
   "outputs": [],
   "source": []
  },
  {
   "cell_type": "code",
   "execution_count": null,
   "id": "injured-dublin",
   "metadata": {},
   "outputs": [],
   "source": []
  },
  {
   "cell_type": "code",
   "execution_count": null,
   "id": "radical-azerbaijan",
   "metadata": {},
   "outputs": [],
   "source": [
    "# Use our print helper to print the whole thing\n"
   ]
  },
  {
   "cell_type": "code",
   "execution_count": null,
   "id": "sublime-supply",
   "metadata": {},
   "outputs": [],
   "source": [
    "# print just the diagonal:\n",
    "# [[*, , , ]\n",
    "#  [ ,*, , ]\n",
    "#  [ , ,*, ]\n",
    "#  [ , , ,*]]"
   ]
  },
  {
   "cell_type": "code",
   "execution_count": null,
   "id": "robust-roads",
   "metadata": {},
   "outputs": [],
   "source": [
    "# print the lower array up to and including the diagonal:\n",
    "# [[*, , , ]\n",
    "#  [*,*, , ]\n",
    "#  [*,*,*, ]\n",
    "#  [*,*,*,*]]"
   ]
  },
  {
   "cell_type": "code",
   "execution_count": null,
   "id": "secure-worthy",
   "metadata": {},
   "outputs": [],
   "source": [
    "# print the upper triangular portion of the array, \n",
    "# excluding the diagonals:\n",
    "# [[ ,*,*,*]\n",
    "#  [ , ,*,*]\n",
    "#  [ , , ,*]\n",
    "#  [ , , , ]]"
   ]
  },
  {
   "cell_type": "code",
   "execution_count": null,
   "id": "cloudy-breeding",
   "metadata": {},
   "outputs": [],
   "source": [
    "# print the upper triangular portion of the array,\n",
    "# bottom to top,\n",
    "# right to left...\n",
    "# [[ ,*,*,*]\n",
    "#  [ , ,*,*]\n",
    "#  [ , , ,*]\n",
    "#  [ , , , ]]"
   ]
  },
  {
   "cell_type": "code",
   "execution_count": null,
   "id": "distinct-violence",
   "metadata": {},
   "outputs": [],
   "source": [
    "# print the lower triangular part of the array,\n",
    "# up to and including the diagonals,\n",
    "# bottom to top, and left to right\n",
    "# [[*, , , ]\n",
    "#  [*,*, , ]\n",
    "#  [*,*,*, ]\n",
    "#  [*,*,*,*]]"
   ]
  },
  {
   "cell_type": "code",
   "execution_count": null,
   "id": "double-crash",
   "metadata": {},
   "outputs": [],
   "source": [
    "# print the sum of the rows of lower triangle of the array up to and including the diagonals:\n",
    "# print bottom to top\n",
    "# [[*, , , ]\n",
    "#  [*,*, , ]\n",
    "#  [*,*,*, ]\n",
    "#  [*,*,*,*]]"
   ]
  }
 ],
 "metadata": {
  "kernelspec": {
   "display_name": "Python 3",
   "language": "python",
   "name": "python3"
  },
  "language_info": {
   "codemirror_mode": {
    "name": "ipython",
    "version": 3
   },
   "file_extension": ".py",
   "mimetype": "text/x-python",
   "name": "python",
   "nbconvert_exporter": "python",
   "pygments_lexer": "ipython3",
   "version": "3.9.1"
  }
 },
 "nbformat": 4,
 "nbformat_minor": 5
}
